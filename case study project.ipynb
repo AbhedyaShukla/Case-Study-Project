{
 "cells": [
  {
   "cell_type": "markdown",
   "metadata": {},
   "source": [
    "# Question 1\n",
    "Your Friend has developed the Product and he wants to establish the product startup and he is searching for a perfect location where getting the investment has a high chance. But due to its financial restriction, he can choose only between three locations -  Bangalore, Mumbai, and NCR. As a friend, you want to help your friend deciding the location. NCR include Gurgaon, Noida and New Delhi. Find the location where the most number of funding is done. That means, find the location where startups has received funding maximum number of times. Plot the bar graph between location and number of funding. Take city name \"Delhi\" as \"New Delhi\". Check the case-sensitiveness of cities also. That means, at some place instead of \"Bangalore\", \"bangalore\" is given. Take city name as \"Bangalore\". For few startups multiple locations are given, one Indian and one Foreign. Consider the startup if any one of the city lies in given locations.\n",
    "\n",
    "### Explanation:\n",
    "Here \"loc\" variable holds all rows of \"CityLocation\" column. I order to get all cities name where more than 1 city name in present \"split\" function is used. It split string present is each row on the basis of forwaord slash \"/\".  \n",
    "\"a=loc.str.split(\"/\",expand=True)\" here variable \"a\" holds a dataframe with 2 columns. Column 1 holds the value to city name which comes first in a particuar row and column 2 holds the values of second city. If 2nd city is not present then column 2 hold \"None\" values. Like this: <img src = \"a.JPG\" style=\"width:200px;height=500px\"/>\n",
    "\n",
    "Then in line 12 both the columns are concatenated to form a single column and in the same line extra spaces of each string in each row is removed and rows with \"NA\" values are dropped. This is stored in the variable \"loc\". Now this data is ready to get cleaned.\n",
    "\n",
    "For Data cleaning and correcting the required cities name \"boolean array\" is used. Here all city names are not considered, only cities present in Question are renamed and per requirement. \n",
    "\n",
    "Then again \"boolean array\" is used for convering \"New Delhi\", \"Gurgaon\" & \"Noida\" into \"NCR\". And also for removing other irrelevant cities from \"loc\" variable.\n",
    "\n",
    "In line 27 value_counts() function is used for getting the count of unique cities present. And this is stored in \"total_count\" variable with is of type pandas series. Then \"city\" & \"city_count\" variables are used for simply stroing the index (key) and value of \"total_count\" and printing city names with its count value.\n",
    "\n",
    "Bar graph is best suited for showing city name with their count values. On X-axis name of city is present and on Y-axis its count is present.\n",
    "\n",
    "### Conclusion:\n",
    "From result it can be concluded that NCR will be the best location to establish the product startup. Because this is the location where the most number of funding is done and startups establised here are likely to get funding easily. Then comes \"Bangalore\" then \"Mumbai\"."
   ]
  },
  {
   "cell_type": "code",
   "execution_count": 3,
   "metadata": {},
   "outputs": [
    {
     "name": "stdout",
     "output_type": "stream",
     "text": [
      "NCR 709\n",
      "Bangalore 637\n",
      "Mumbai 449\n"
     ]
    },
    {
     "data": {
      "image/png": "[encoded data removed]",
      "text/plain": [
       "<Figure size 432x288 with 1 Axes>"
      ]
     },
     "metadata": {
      "needs_background": "light"
     },
     "output_type": "display_data"
    }
   ],
   "source": [
    "import pandas as pd\n",
    "import matplotlib.pyplot as plt\n",
    "import numpy as np\n",
    "\n",
    "df=pd.read_csv(\"startup_funding.csv\")  # read csv\n",
    "\n",
    "loc=df.CityLocation \n",
    "\n",
    "# split location name over \"/\"\n",
    "a=loc.str.split(\"/\",expand=True) \n",
    "# concating both column af dataframe \"a\" into single column and \"NA\" dropped\n",
    "loc=pd.concat([a[0],a[1]]).str.strip().dropna() \n",
    "\n",
    "# from here data cleaning starts using boolean array\n",
    "boolarr=((loc==\"Delhi\"))  \n",
    "loc[boolarr]=\"New Delhi\"\n",
    "boolarr=((loc==\"bangalore\"))\n",
    "loc[boolarr]=\"Bangalore\"\n",
    "\n",
    "boolarr=((loc==\"New Delhi\") | (loc==\"Gurgaon\") | (loc==\"Noida\"))\n",
    "loc[boolarr]=\"NCR\"\n",
    "\n",
    "boolarr=((loc==\"Bangalore\") | (loc==\"NCR\") | (loc==\"Mumbai\"))\n",
    "loc=loc[boolarr]\n",
    "\n",
    "# getting the count of unique cities present\n",
    "total_count=loc.value_counts()\n",
    "city=total_count.index   # holds city names\n",
    "city_count=total_count.values   # holds count value\n",
    "\n",
    "# traversing and printing top 3 city name and their number of occurance.\n",
    "for i in range(3):\n",
    "    print(city[i],city_count[i])\n",
    "\n",
    "# Graph plot (Bar-Graph)\n",
    "plt.bar(city,city_count,width=0.4)\n",
    "plt.xlabel(\"CITY\")\n",
    "plt.ylabel(\"No. of Funding\")\n",
    "plt.show()\n",
    "\n"
   ]
  },
  {
   "cell_type": "markdown",
   "metadata": {},
   "source": [
    "# Question 2\n",
    "Even after trying for so many times, your friend’s startup could not find the investment. So you decided to take this matter in your hand and try to find the list of investors who probably can invest in your friend’s startup. Your list will increase the chance of your friend startup getting some initial investment by contacting these investors. Find the top 5 investors who have invested maximum number of times (consider repeat investments in one company also). In a startup, multiple investors might have invested. So consider each investor for that startup. Ignore undisclosed investors.\n",
    "\n",
    "### Explanation:\n",
    "Here \"name\" variable holds the values of \"InvestorsName\" column which is of type Pandas Series. Then all \"NA\" values of droped from this. \n",
    "\n",
    "\"split\" fuction is used in order to extract all the names which are separated by commas. And this pandas series is converted into numpy array. Which is further flattened into 1-dimension with this piece of code: \"(np.concatenate(all_name).flat)\" and extra spaces in each string are removed with split funtion. Then finally this numpy array is converted into pandas series using pd.series function (line 15).\n",
    "\n",
    "In line 18 value_counts() function is used for getting the count of unique names of investors. This is stored in \"name_count\" variable.Then simply printed top 5 investor's names with number of investments they have done.\n",
    "\n",
    "Again Bar graph is best suited for showing Investor's name with their count values of number of investments. On X-axis name of investor is present and on Y-axis their count is ploted (Only top 5 investors).\n",
    "\n",
    "### Conclusion:\n",
    "From result it is clear that \"Sequoia Capital\" has invested most number of times. So this investor will be the best for contacting for getting funds and investments. Then comes \"Accel Partners\", \"Kalaari Capital\", \"SAIF Partners\" and \"Indian Angel Network\".\n"
   ]
  },
  {
   "cell_type": "code",
   "execution_count": 4,
   "metadata": {},
   "outputs": [
    {
     "name": "stdout",
     "output_type": "stream",
     "text": [
      "Sequoia Capital 64\n",
      "Accel Partners 53\n",
      "Kalaari Capital 44\n",
      "SAIF Partners 41\n",
      "Indian Angel Network 40\n"
     ]
    },
    {
     "data": {
      "image/png": "[encoded data removed]",
      "text/plain": [
       "<Figure size 432x288 with 1 Axes>"
      ]
     },
     "metadata": {
      "needs_background": "light"
     },
     "output_type": "display_data"
    }
   ],
   "source": [
    "import pandas as pd\n",
    "import numpy as np\n",
    "import matplotlib.pyplot as plt\n",
    "\n",
    "df=pd.read_csv(\"startup_funding.csv\")   # read csv\n",
    "\n",
    "name=df.InvestorsName\n",
    "name=name.dropna()  # drop \"NA\" from investorname\n",
    "\n",
    "# split investor's name over \",\"\n",
    "all_name=np.array(name.str.split(\",\"))\n",
    "\n",
    "# all_name is been flattened into 1D and extra spaces are removed usig strip function.\n",
    "# finally this numpy array is converted into pandas series\n",
    "all_name = pd.Series(np.concatenate(all_name).flat).str.strip()\n",
    "\n",
    "# getting the count of unique investor's name present\n",
    "name_count = all_name.value_counts()\n",
    "\n",
    "# traversing and printing top 5 investor's name and their number of occurance.\n",
    "for i in range(5):\n",
    "    print(name_count.index[i],name_count.values[i])\n",
    "\n",
    "# Graph plot (Bar-Graph)\n",
    "plt.bar(name_count.index[:5],name_count.values[:5],width=0.6)\n",
    "plt.xlabel(\"Investor Name\")\n",
    "plt.ylabel(\"No. of Investments\")\n",
    "plt.xticks(rotation=20)\n",
    "plt.show()\n",
    "\n"
   ]
  },
  {
   "cell_type": "markdown",
   "metadata": {},
   "source": [
    "# Question 3\n",
    "After re-analysing the dataset you found out that some investors have invested in the same startup at different number of funding rounds. So before finalising the previous list, you want to improvise it by finding the top 5 investors who have invested in different number of startups. This list will be more helpful than your previous list in finding the investment for your friend startup. Find the top 5 investors who have invested maximum number of times in different companies. That means, if one investor has invested multiple times in one startup, count one for that company. There are many errors in startup names. Ignore correcting all, just handle the important ones - Ola, Flipkart, Oyo and Paytm.\n",
    "\n",
    "### Explanation:\n",
    "Firstly all columns except \"InvestorsName\" and \"StartupName\" have been dropped using \"drop\" function of pandas dataframe (line 8). Then \"NA\" values of column \"InvestorsName\" and \"StartupName\" have been drop and finally index are reset using \"reset_index\" function. Now dataset is ready to get cleaned.\n",
    "\n",
    "Cleaned the important startup names like: Ola, Flipkart, Oyo and Paytm using boolean array.\n",
    "\n",
    "\"name\" variable is used for \"InvestorsName\" and \"split\" fuction is used in order to extract all the names which are separated by commas (line 28). \n",
    "\n",
    "Two dictionaries named \"d1\" and \"d2\" are created.\n",
    "\n",
    "Dict \"d1\" is for maintaining \"investor name\" and associated startup name:\n",
    "After removing extra leading space, for each investor names a set is maintained. That means for dict \"d1\" key is \"Investor's name\" and values are \"startup name\" which is inside set. Here sets are used purposely because sets cannot hold duplicate values. So if a investor has already invested in any startup then for the second time that startup name will not be added into set beacuse it has already been added. \n",
    "\n",
    "Dict \"d2\" is for maintaining \"investor name\" as key and length of set which contain startup name from dict \"d1\" as values.\n",
    "In line 40: \"setdefault function\" is use to insert a new key (ie. investor name) and values in the dictionary \"d1\" and if that key (investor name) is already present then it will update the value of that key without lossing previous values. And \"add\" function is use to insert items in set.\n",
    "\n",
    "Then finally dictionary d2 is sorted with respect to values using itemgetter function present in operator library. And top 5 items of this dictionary is printed. That means top 5 investor's name who have invested maximum number of times in different companies with their no of investment have been printed and plotted on the graph. X-axis: \"investor_name\" and Y-axis: \"number of investment\" of that investor.\n",
    "\n",
    "### Conclusion:\n",
    "From result it is clear that \"Sequoia Capital\" has invested most number of times in different companies. So this investor will be the best for contacting for getting funds and investments. Then comes \"Accel Partners\", \"Kalaari Capital\", \"Indian Angel Network\" and \"Blume Ventures\".\n",
    "\n"
   ]
  },
  {
   "cell_type": "code",
   "execution_count": 12,
   "metadata": {},
   "outputs": [
    {
     "name": "stdout",
     "output_type": "stream",
     "text": [
      "Sequoia Capital 48\n",
      "Accel Partners 47\n",
      "Kalaari Capital 41\n",
      "Indian Angel Network 40\n",
      "Blume Ventures 36\n"
     ]
    },
    {
     "data": {
      "image/png": "[encoded data removed]",
      "text/plain": [
       "<Figure size 432x288 with 1 Axes>"
      ]
     },
     "metadata": {
      "needs_background": "light"
     },
     "output_type": "display_data"
    }
   ],
   "source": [
    "import pandas as pd\n",
    "import numpy as np\n",
    "import matplotlib.pyplot as plt\n",
    "import operator\n",
    "df=pd.read_csv(\"startup_funding.csv\")   # read csv\n",
    "\n",
    "# dropping irrelevent columns\n",
    "df.drop(df.columns[[0, 1, 3, 4, 5, 7, 8, 9]], axis = 1, inplace = True)\n",
    "\n",
    "# droping NA from \"InvestorsName\",\"StartupName\"\n",
    "df.dropna(subset=[\"InvestorsName\",\"StartupName\"],inplace=True)\n",
    "\n",
    "# resetting index\n",
    "df.reset_index(drop=True,inplace=True)\n",
    "\n",
    "# cleaning data\n",
    "startup=df.StartupName\n",
    "boolarr=((startup==\"Olacabs\") | (startup==\"Ola Cabs\"))\n",
    "startup[boolarr]=\"Ola\"\n",
    "boolarr=((startup==\"Oyo Rooms\") | (startup==\"OyoRooms\") | (startup==\"OYO Rooms\") | (startup==\"Oyorooms\"))\n",
    "startup[boolarr]=\"Oyo\"\n",
    "boolarr=((startup==\"Flipkart.com\"))\n",
    "startup[boolarr]=\"Flipkart\"\n",
    "boolarr=((startup==\"Paytm Marketplace\"))\n",
    "startup[boolarr]=\"Paytm\"\n",
    "\n",
    "name=df.InvestorsName\n",
    "name=pd.Series(name.str.split(\",\"))   # split investor's name over \",\"\n",
    "\n",
    "d1={}\n",
    "d2={}\n",
    "\n",
    "# travering name\n",
    "for i in range(len(name)):\n",
    "    for j in range(len(name[i])):\n",
    "        x=name[i][j].strip()   # removing leading spaces from investor's name\n",
    "        if x=='' or \"Undisclosed\" in x:   # not considering blank values and values haing \"Undisclosed\"\n",
    "            continue    \n",
    "        # inserting startup name in set and then inserting that set in dictioary as value. Keys are investor's name.\n",
    "        d1.setdefault(x, set()).add(startup[i])\n",
    "\n",
    "# calulating length of each set in dictionary \"d1\" and mapping the length with investor name using dictionary \"d2\"\n",
    "for x in d1:\n",
    "    d2[x]=len(d1[x])\n",
    "\n",
    "# sorting \"d2\" on the basis of values using operator library and taking only 1st 5 values.\n",
    "d2 = dict(sorted(d2.items(), key=operator.itemgetter(1),reverse=True)[:5])\n",
    "\n",
    "# two lists for graph plotting for x-axis and y-axis \n",
    "investor_name=[]\n",
    "no_of_investment=[]\n",
    "\n",
    "# traversing and printing top 5 investor's name and their number of occurance.\n",
    "for x in d2:\n",
    "    print(x,d2[x])\n",
    "    investor_name.append(x)\n",
    "    no_of_investment.append(d2[x])\n",
    "    \n",
    "# Graph plotting\n",
    "plt.plot(investor_name, no_of_investment,\"bo\")\n",
    "plt.xlabel(\"Investor Name\")\n",
    "plt.ylabel(\"No. of Investments\")\n",
    "plt.xticks(rotation=20)\n",
    "plt.grid()\n",
    "plt.show()  \n"
   ]
  },
  {
   "cell_type": "markdown",
   "metadata": {},
   "source": [
    "# Question 4\n",
    "Even after putting so much effort in finding the probable investors, it didn't turn out to be helpful for your friend. So you went to your investor friend to understand the situation better and your investor friend explained to you about the different Investment Types and their features. This new information will be helpful in finding the right investor. Since your friend startup is at an early stage startup, the best-suited investment type would be - Seed Funding and Crowdfunding. Find the top 5 investors who have invested in a different number of startups and their investment type is Crowdfunding or Seed Funding. Correct spelling of investment types are - \"Private Equity\", \"Seed Funding\", \"Debt Funding\", and \"Crowd Funding\". Keep an eye for any spelling mistake. You can find this by printing unique values from this column. There are many errors in startup names. Ignore correcting all, just handle the important ones - Ola, Flipkart, Oyo and Paytm.\n",
    "\n",
    "### Explanation:\n",
    "Firstly all columns except \"InvestorsName\", \"InvestmentType\" and \"StartupName\" have been dropped using \"drop\" function of pandas dataframe (line 8). Then \"NA\" values of column \"InvestorsName\", \"InvestmentType\" and \"StartupName\" have been drop and finally index are reset using \"reset_index\" function. Now dataset is ready to get cleaned.\n",
    "\n",
    "First \"InvestmentType\" is cleaned and spelling errors have been removed using boolean array. Then rows which are not required have been droped. We only need \"Seed funding\" and \"Crowd funding\" for an early stage startup so \"Private Equity\" and \"Debt funding\" rows have been droped (line 25) and index are reset. Now StartupName column should be cleaned, only the important startup names like: Ola, Flipkart, Oyo and Paytm has been cleaned using boolean array.\n",
    "\n",
    "\"startup\" variable is used for \"StartupName\" and \"name\" variable is used for \"InvestorsName\" and \"split\" fuction is used in order to extract all the names which are separated by commas (line 40,41,42).\n",
    "\n",
    "Rest other steps are same as in question 3 (From line 44 onwards).\n",
    "\n",
    "Finally top 5 investor's name who have invested maximum number of times in different companies having \"InvestmenType\" as \"Seed funding\" and \"Crowd funding\" with their no of investment have been printed and plotted on the graph. X-axis: \"investor_name\" and Y-axis: \"number of investment\" of that investor.\n",
    "\n",
    "### Conclusion:\n",
    "From result it is clear that \"Indian Angel Network\" has invested most number of times in different companies having \"InvestmenType\" as \"Seed funding\" and \"Crowd funding\". So this investor will be the best for contacting for getting funds and investments for an early stage startup. Then comes \"Rajan Anandan\", \"LetsVenture\", \"Anupam Mittal\" and \"Kunal Shah\".\n"
   ]
  },
  {
   "cell_type": "code",
   "execution_count": 11,
   "metadata": {},
   "outputs": [
    {
     "name": "stdout",
     "output_type": "stream",
     "text": [
      "Indian Angel Network 33\n",
      "Rajan Anandan 23\n",
      "LetsVenture 16\n",
      "Anupam Mittal 16\n",
      "Kunal Shah 14\n"
     ]
    },
    {
     "data": {
      "image/png": "[encoded data removed]",
      "text/plain": [
       "<Figure size 432x288 with 1 Axes>"
      ]
     },
     "metadata": {
      "needs_background": "light"
     },
     "output_type": "display_data"
    }
   ],
   "source": [
    "import pandas as pd\n",
    "import numpy as np\n",
    "import matplotlib.pyplot as plt\n",
    "import operator\n",
    "df=pd.read_csv(\"startup_funding.csv\")   # read csv\n",
    "\n",
    "# dropping irrelevent columns\n",
    "df.drop(df.columns[[0, 1, 3, 4, 5, 8, 9]], axis = 1, inplace = True)\n",
    "\n",
    "# droping NA from \"InvestorsName\",\"InvestmentType\" and \"StartupName\"\n",
    "df.dropna(subset=[\"InvestorsName\",\"InvestmentType\",\"StartupName\"],inplace=True)\n",
    "\n",
    "# resetting index\n",
    "df.reset_index(drop=True,inplace=True)\n",
    "\n",
    "# cleaning data\n",
    "boolarr=(df.InvestmentType==\"SeedFunding\")\n",
    "df.InvestmentType[boolarr]=\"Seed Funding\"\n",
    "boolarr=(df.InvestmentType==\"PrivateEquity\")\n",
    "df.InvestmentType[boolarr]=\"Private Equity\"\n",
    "boolarr=(df.InvestmentType==\"Crowd funding\")\n",
    "df.InvestmentType[boolarr]=\"Crowd Funding\"\n",
    "\n",
    "# dropping irrelevent rows where investment type is either \"Private Equity\" or \"Debt Funding\"\n",
    "df.drop(df[(df.InvestmentType == \"Private Equity\") | (df.InvestmentType == \"Debt Funding\")].index, inplace = True)\n",
    "\n",
    "# resetting index\n",
    "df.reset_index(drop=True,inplace=True)\n",
    "\n",
    "# cleaning data\n",
    "boolarr=((df.StartupName==\"Olacabs\") | (df.StartupName==\"Ola Cabs\"))\n",
    "df.StartupName[boolarr]=\"Ola\"\n",
    "boolarr=((df.StartupName==\"Oyo Rooms\") | (df.StartupName==\"OyoRooms\") | (df.StartupName==\"OYO Rooms\") | (df.StartupName==\"Oyorooms\"))\n",
    "df.StartupName[boolarr]=\"Oyo\"\n",
    "boolarr=((df.StartupName==\"Flipkart.com\"))\n",
    "df.StartupName[boolarr]=\"Flipkart\"\n",
    "boolarr=((df.StartupName==\"Paytm Marketplace\"))\n",
    "df.StartupName[boolarr]=\"Paytm\"\n",
    "\n",
    "startup=df.StartupName\n",
    "name=df.InvestorsName\n",
    "name=pd.Series(name.str.split(\",\"))   # split investor's name over \",\"\n",
    "\n",
    "d1={}\n",
    "d2={}\n",
    "\n",
    "# traversing name\n",
    "for i in range(len(name)):\n",
    "    for j in range(len(name[i])):\n",
    "        x=name[i][j].strip()    # removing leading spaces from investor's name\n",
    "        if x=='' or \"Undisclosed\" in x:   # not considering blank values and values haing \"Undisclosed\"\n",
    "            continue\n",
    "        # inserting startup name in set and then inserting that set in dictioary as value. Keys are investor's name.\n",
    "        d1.setdefault(x, set()).add(startup[i])\n",
    "\n",
    "# calulating length of each set in dictionary \"d1\" and mapping the length with investor name using dictionary \"d2\"\n",
    "for x in d1:\n",
    "    d2[x]=len(d1[x])\n",
    "\n",
    "# sorting \"d2\" on the basis of values using operator library and taking only 1st 5 values.\n",
    "d2 = dict(sorted(d2.items(), key=operator.itemgetter(1),reverse=True)[:5])\n",
    "\n",
    "# two lists for graph plotting for x-axis and y-axis\n",
    "investor_name=[]\n",
    "no_of_investment=[]\n",
    "\n",
    "# traversing and printing top 5 investor's name and their number of occurance.\n",
    "for x in d2:\n",
    "    print(x,d2[x])\n",
    "    investor_name.append(x)\n",
    "    no_of_investment.append(d2[x])\n",
    "\n",
    "# Graph plotting\n",
    "plt.bar(investor_name, no_of_investment,width=0.6)\n",
    "plt.xlabel(\"Investor Name\")\n",
    "plt.ylabel(\"No. of Investments\")\n",
    "plt.xticks(rotation=20)\n",
    "plt.show() \n",
    "\n"
   ]
  },
  {
   "cell_type": "markdown",
   "metadata": {},
   "source": [
    "# Question 5\n",
    "Due to your immense help, your friend startup successfully got seed funding and it is on the operational mode. Now your friend wants to expand his startup and he is looking for new investors for his startup. Now you again come as a saviour to help your friend and want to create a list of probable new new investors. Before moving forward you remember your investor friend advice that finding the investors by analysing the investment type. Since your friend startup is not in early phase it is in growth stage so the best-suited investment type is Private Equity. Find the top 5 investors who have invested in a different number of startups and their investment type is Private Equity. Correct spelling of investment types are - \"Private Equity\", \"Seed Funding\", \"Debt Funding\", and \"Crowd Funding\". Keep an eye for any spelling mistake. You can find this by printing unique values from this column.There are many errors in startup names. Ignore correcting all, just handle the important ones - Ola, Flipkart, Oyo and Paytm.\n",
    "\n",
    "### Explanation:\n",
    "Firstly all columns except \"InvestorsName\", \"InvestmentType\" and \"StartupName\" have been dropped using \"drop\" function of pandas dataframe (line 8). Then \"NA\" values of column \"InvestorsName\", \"InvestmentType\" and \"StartupName\" have been drop and finally index are reset using \"reset_index\" function. Now dataset is ready to get cleaned.\n",
    "\n",
    "First \"InvestmentType\" is cleaned and spelling errors have been removed using boolean array. Then rows which are not required have been droped. Since, now the startup is not in early stage so we only need \"Private Equity\" for growth stage startup so \"Seed Funding\", \"Crowd Funding\" and \"Debt funding\" rows have been droped (line 25) and index are reset. Now StartupName column should be cleaned, only the important startup names like: Ola, Flipkart, Oyo and Paytm has been cleaned using boolean array.\n",
    "\n",
    "\"startup\" variable is used for \"StartupName\" and \"name\" variable is used for \"InvestorsName\" and \"split\" fuction is used in order to extract all the names which are separated by commas (line 40,41,42).\n",
    "\n",
    "Rest other steps are same as in question 3 and 4 (From line 44 onwards).\n",
    "\n",
    "Finally top 5 investor's name who have invested maximum number of times in different companies having \"InvestmenType\" as \"Seed funding\" and \"Crowd funding\" with their no of investment have been printed and plotted on the graph. X-axis: \"investor_name\" and Y-axis: \"number of investment\" of that investor.\n",
    "\n",
    "### Conclusion:\n",
    "From result it is clear that \"Sequoia Capital\" has invested most number of times in different companies having \"InvestmenType\" as \"Private Equity\". So this investor will be the best for contacting for getting funds and investments for growth stage startup. Then comes \"Accel Partners\", \"Kalaari Capital\", \"Blume Ventures\" and \"SAIF Partners\".\n"
   ]
  },
  {
   "cell_type": "code",
   "execution_count": 13,
   "metadata": {},
   "outputs": [
    {
     "name": "stdout",
     "output_type": "stream",
     "text": [
      "Sequoia Capital 45\n",
      "Accel Partners 43\n",
      "Kalaari Capital 35\n",
      "Blume Ventures 27\n",
      "SAIF Partners 24\n"
     ]
    },
    {
     "data": {
      "image/png": "[encoded data removed]",
      "text/plain": [
       "<Figure size 432x288 with 1 Axes>"
      ]
     },
     "metadata": {
      "needs_background": "light"
     },
     "output_type": "display_data"
    }
   ],
   "source": [
    "import pandas as pd\n",
    "import numpy as np\n",
    "import matplotlib.pyplot as plt\n",
    "import operator\n",
    "df=pd.read_csv(\"startup_funding.csv\")   # read csv\n",
    "\n",
    "# dropping irrelevent columns\n",
    "df.drop(df.columns[[0, 1, 3, 4, 5, 8, 9]], axis = 1, inplace = True)\n",
    "\n",
    "# droping NA from \"InvestorsName\",\"InvestmentType\" and \"StartupName\"\n",
    "df.dropna(subset=[\"InvestorsName\",\"InvestmentType\",\"StartupName\"],inplace=True)\n",
    "\n",
    "# resetting index\n",
    "df.reset_index(drop=True,inplace=True)\n",
    "\n",
    "# cleaning data\n",
    "boolarr=(df.InvestmentType==\"SeedFunding\")\n",
    "df.InvestmentType[boolarr]=\"Seed Funding\"\n",
    "boolarr=(df.InvestmentType==\"PrivateEquity\")\n",
    "df.InvestmentType[boolarr]=\"Private Equity\"\n",
    "boolarr=(df.InvestmentType==\"Crowd funding\")\n",
    "df.InvestmentType[boolarr]=\"Crowd Funding\"\n",
    "\n",
    "# dropping irrelevent rows where investment type is either \"Seed funding\", \"Crowd Funding\" or \"Debt Funding\"\n",
    "df.drop(df[(df.InvestmentType == \"Seed Funding\") | (df.InvestmentType == \"Crowd Funding\") | (df.InvestmentType == \"Debt Funding\")].index, inplace = True)\n",
    "\n",
    "# resetting index\n",
    "df.reset_index(drop=True,inplace=True)\n",
    "\n",
    "# cleaning data\n",
    "boolarr=((df.StartupName==\"Olacabs\") | (df.StartupName==\"Ola Cabs\"))\n",
    "df.StartupName[boolarr]=\"Ola\"\n",
    "boolarr=((df.StartupName==\"Oyo Rooms\") | (df.StartupName==\"OyoRooms\") | (df.StartupName==\"OYO Rooms\") | (df.StartupName==\"Oyorooms\"))\n",
    "df.StartupName[boolarr]=\"Oyo\"\n",
    "boolarr=((df.StartupName==\"Flipkart.com\"))\n",
    "df.StartupName[boolarr]=\"Flipkart\"\n",
    "boolarr=((df.StartupName==\"Paytm Marketplace\"))\n",
    "df.StartupName[boolarr]=\"Paytm\"\n",
    "\n",
    "startup=df.StartupName\n",
    "name=df.InvestorsName\n",
    "name=pd.Series(name.str.split(\",\"))   # split investor's name over \",\"\n",
    "\n",
    "d1={}\n",
    "d2={}\n",
    "\n",
    "# traversing name\n",
    "for i in range(len(name)):\n",
    "    for j in range(len(name[i])):\n",
    "        x=name[i][j].strip()    # removing leading spaces from investor's name\n",
    "        if x=='' or \"Undisclosed\" in x:   # not considering blank values and values haing \"Undisclosed\"\n",
    "            continue\n",
    "        # inserting startup name in set and then inserting that set in dictioary as value. Keys are investor's name.\n",
    "        d1.setdefault(x, set()).add(startup[i])\n",
    "\n",
    "# calulating length of each set in dictionary \"d1\" and mapping the length with investor name using dictionary \"d2\"\n",
    "for x in d1:\n",
    "    d2[x]=len(d1[x])\n",
    "\n",
    "# sorting \"d2\" on the basis of values using operator library and taking only 1st 5 values.\n",
    "d2 = dict(sorted(d2.items(), key=operator.itemgetter(1),reverse=True)[:5])\n",
    "\n",
    "# two lists for graph plotting for x-axis and y-axis\n",
    "investor_name=[]\n",
    "no_of_investment=[]\n",
    "\n",
    "# traversing and printing top 5 investor's name and their number of occurance.\n",
    "for x in d2:\n",
    "    print(x,d2[x])\n",
    "    investor_name.append(x)\n",
    "    no_of_investment.append(d2[x])\n",
    "\n",
    "# Graph plotting\n",
    "plt.plot(investor_name, no_of_investment,\"bo--\")\n",
    "plt.xlabel(\"Investor Name\")\n",
    "plt.ylabel(\"No. of Investments\")\n",
    "plt.xticks(rotation=20)\n",
    "plt.grid()\n",
    "plt.show() \n",
    "\n"
   ]
  },
  {
   "cell_type": "code",
   "execution_count": null,
   "metadata": {},
   "outputs": [],
   "source": []
  }
 ],
 "metadata": {
  "kernelspec": {
   "display_name": "Python 3",
   "language": "python",
   "name": "python3"
  },
  "language_info": {
   "codemirror_mode": {
    "name": "ipython",
    "version": 3
   },
   "file_extension": ".py",
   "mimetype": "text/x-python",
   "name": "python",
   "nbconvert_exporter": "python",
   "pygments_lexer": "ipython3",
   "version": "3.7.3"
  }
 },
 "nbformat": 4,
 "nbformat_minor": 2
}
